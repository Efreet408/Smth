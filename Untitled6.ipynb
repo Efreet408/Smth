{
 "cells": [
  {
   "cell_type": "code",
   "execution_count": 1,
   "metadata": {},
   "outputs": [],
   "source": [
    "DEVICE = 'cuda'\n",
    "MAX_LEN = 256\n",
    "N_FEATURES = 6\n",
    "BATCH_SIZE = 32"
   ]
  },
  {
   "cell_type": "code",
   "execution_count": 2,
   "metadata": {},
   "outputs": [],
   "source": [
    "import numpy as np\n",
    "from collections import defaultdict\n",
    "\n",
    "import torch\n",
    "import torch.nn as nn\n",
    "import torch.nn.functional as F"
   ]
  },
  {
   "cell_type": "code",
   "execution_count": 3,
   "metadata": {},
   "outputs": [],
   "source": [
    "class Policy(nn.Module):\n",
    "    def __init__(self, inp_size=N_FEATURES, hid_size=32):\n",
    "        super().__init__()\n",
    "        self.inp_size = inp_size\n",
    "        self.hid_size = hid_size\n",
    "        \n",
    "        self.conv1_1 = nn.Conv1d(inp_size, hid_size, 3, padding=1)\n",
    "        self.conv1_2 = nn.Conv1d(hid_size, hid_size, 3, padding=1)\n",
    "        self.conv1_3 = nn.Conv1d(hid_size, hid_size, 3, padding=1)\n",
    "        \n",
    "        self.conv2_1 = nn.Conv1d(hid_size, hid_size, 3, padding=1)\n",
    "        self.conv2_2 = nn.Conv1d(hid_size, hid_size, 3, padding=1)\n",
    "        self.conv2_3 = nn.Conv1d(hid_size, hid_size, 3, padding=1)\n",
    "        \n",
    "        self.conv3_1 = nn.Conv1d(hid_size, hid_size, 3, padding=1)\n",
    "        self.conv3_2 = nn.Conv1d(hid_size, hid_size, 3, padding=1)\n",
    "        self.conv3_3 = nn.Conv1d(hid_size, hid_size, 3, padding=1)\n",
    "        \n",
    "        self.conv4_1 = nn.Conv1d(hid_size, hid_size, 3, padding=1)\n",
    "        self.conv4_2 = nn.Conv1d(hid_size, hid_size, 3, padding=1)\n",
    "        self.conv4_3 = nn.Conv1d(hid_size, hid_size, 3, padding=1)\n",
    "        self.log_probs = nn.Linear(hid_size, 4)\n",
    "        \n",
    "    def forward(self, inps):\n",
    "        X = torch.transpose(inps, 1, 2)\n",
    "        X = F.leaky_relu(self.conv1_1(X))\n",
    "        X = F.leaky_relu(self.conv1_2(X))\n",
    "        X = F.leaky_relu(self.conv1_3(X))\n",
    "        \n",
    "        X = F.leaky_relu(self.conv2_1(X))\n",
    "        X = F.leaky_relu(self.conv2_2(X))\n",
    "        X = F.leaky_relu(self.conv2_3(X))\n",
    "        \n",
    "        X = F.leaky_relu(self.conv3_1(X))\n",
    "        X = F.leaky_relu(self.conv3_2(X))\n",
    "        X = F.leaky_relu(self.conv3_3(X))\n",
    "        \n",
    "        X = F.leaky_relu(self.conv4_1(X))\n",
    "        X = F.leaky_relu(self.conv4_2(X))\n",
    "        X = F.leaky_relu(self.conv4_3(X))\n",
    "        X = torch.transpose(X, 1, 2)\n",
    "        \n",
    "        log_probs = self.log_probs(X)\n",
    "        return log_probs"
   ]
  },
  {
   "cell_type": "code",
   "execution_count": 4,
   "metadata": {},
   "outputs": [],
   "source": [
    "class Critic(nn.Module):\n",
    "    def __init__(self, inp_size=N_FEATURES, hid_size=32):\n",
    "        super().__init__()\n",
    "        self.inp_size = inp_size\n",
    "        self.hid_size = hid_size\n",
    "        \n",
    "        self.conv1_1 = nn.Conv1d(inp_size, hid_size, 3, padding=1)\n",
    "        self.conv1_2 = nn.Conv1d(hid_size, hid_size, 3, padding=1)\n",
    "        self.conv1_3 = nn.Conv1d(hid_size, hid_size, 3, padding=1)\n",
    "        \n",
    "        self.conv2_1 = nn.Conv1d(hid_size, hid_size, 3, padding=1)\n",
    "        self.conv2_2 = nn.Conv1d(hid_size, hid_size, 3, padding=1)\n",
    "        self.conv2_3 = nn.Conv1d(hid_size, hid_size, 3, padding=1)\n",
    "        \n",
    "        self.value = nn.Linear(hid_size, 1)\n",
    "        \n",
    "    def forward(self, inps):\n",
    "        X = torch.transpose(inps, 1, 2)\n",
    "        X = F.leaky_relu(self.conv1_1(X))\n",
    "        X = F.leaky_relu(self.conv1_2(X))\n",
    "        X = F.leaky_relu(self.conv1_3(X))\n",
    "        \n",
    "        X = F.leaky_relu(self.conv2_1(X))\n",
    "        X = F.leaky_relu(self.conv2_2(X))\n",
    "        X = F.leaky_relu(self.conv2_3(X))\n",
    "        X = torch.transpose(X, 1, 2)\n",
    "        \n",
    "        value = self.value(X)\n",
    "        return value[:, :, 0]"
   ]
  },
  {
   "cell_type": "code",
   "execution_count": 5,
   "metadata": {},
   "outputs": [],
   "source": [
    "# def get_reward(output, external_obs):\n",
    "#     #make reward\n",
    "#     bs = output.shape[0]\n",
    "#     n = output.shape[1]\n",
    "#     reward = np.zeros((bs, n))\n",
    "#     A = np.zeros(bs)\n",
    "#     B = np.zeros(bs)\n",
    "    \n",
    "#     old_score = np.zeros(bs)\n",
    "#     p = np.zeros(bs)\n",
    "#     p_1 = np.zeros(bs)\n",
    "    \n",
    "#     for i in range(1, bs):\n",
    "#         cur_out = output[:, i]\n",
    "#         p = 1*(cur_out > 1) - 1*(cur_out < -1) + p*((p > 0)*(cur_out > 0) + (p < 0)*(cur_out < 0))\n",
    "#         A += p_1*(external_obs[:, i] - external_obs[:, i - 1])\n",
    "#         p_1 = p\n",
    "#         score = A*torch.sqrt(B)\n",
    "#         reward[:, i - 1] = score - old_score\n",
    "#         old_score = score\n",
    "#     return reward"
   ]
  },
  {
   "cell_type": "code",
   "execution_count": 6,
   "metadata": {},
   "outputs": [],
   "source": [
    "def generate_trajectory(inputs, external_obs, policy, critic, greedy=False):\n",
    "    bs = inputs.shape[0]\n",
    "    n = inputs.shape[1]\n",
    "    reward = torch.zeros(bs, n, dtype=torch.float32, device=DEVICE)\n",
    "    \n",
    "    A = torch.zeros(bs, dtype=torch.float32, device=DEVICE)\n",
    "    B = torch.zeros(bs, dtype=torch.float32, device=DEVICE)\n",
    "    \n",
    "    old_score = torch.zeros(bs, dtype=torch.float32, device=DEVICE)\n",
    "    p = torch.zeros(bs, dtype=torch.float32, device=DEVICE)\n",
    "    p_1 = torch.zeros(bs, dtype=torch.float32, device=DEVICE)\n",
    "    \n",
    "    log_probs = policy(inputs)\n",
    "    values = critic(inputs)\n",
    "    \n",
    "    outputs = torch.distributions.OneHotCategorical(logits=log_probs).sample()\n",
    "    \n",
    "    target = torch.zeros(bs, n, dtype=torch.float32, device=DEVICE)\n",
    "    A_ = torch.zeros(bs, dtype=torch.float32, device=DEVICE)\n",
    "    B_ = torch.zeros(bs, dtype=torch.float32, device=DEVICE)\n",
    "    old_score_ = torch.zeros(bs, dtype=torch.float32, device=DEVICE)\n",
    "    \n",
    "    for i in range(0, n - 1):\n",
    "        if greedy:\n",
    "            cur_out = log_probs[:, i].argmax(-1) - 1.5\n",
    "        else:\n",
    "            cur_out = outputs[:, i].argmax(-1) - 1.5\n",
    "#         print(log_probs[:, i])\n",
    "        \n",
    "        p = 1.*(cur_out > 1) - 1.*(cur_out < -1) + p*((p > 0)*(cur_out > 0)*(cur_out < 1) +\n",
    "                                                      (p < 0)*(cur_out < 0)*(cur_out > -1))\n",
    "        A += p_1*(external_obs[:, i + 1] - external_obs[:, i])\n",
    "        B += (cur_out > 1) + (cur_out < -1)\n",
    "        p_1 = p\n",
    "        \n",
    "#         reward[:, i] = p_1*(external_obs[:, i + 1] - external_obs[:, i])\n",
    "        score = A*torch.sqrt(B)\n",
    "        reward[:, i] = score - old_score\n",
    "        old_score = score\n",
    "#         score = A*torch.sqrt(B)\n",
    "#         if i > 0:\n",
    "#             reward[:, i - 1] = score - old_score\n",
    "#         old_score = score\n",
    "        A_ += torch.abs(external_obs[:, i + 1] - external_obs[:, i])\n",
    "        B_ += 1\n",
    "        score_ = A_*torch.sqrt(B_)\n",
    "        target[:, i] = score_ - old_score_\n",
    "        old_score_ = score_\n",
    "    \n",
    "    return log_probs, outputs, values, reward/1e2, A*torch.sqrt(B), target/1e2, A_*torch.sqrt(B_)"
   ]
  },
  {
   "cell_type": "code",
   "execution_count": 7,
   "metadata": {},
   "outputs": [],
   "source": [
    "def reward_cumulative(reward, gamma=0.5):\n",
    "    n = reward.shape[1]\n",
    "    cumulative_reward = torch.zeros_like(reward)\n",
    "    cumulative_reward[:, -1] = reward[:, -1]\n",
    "    for i in reversed(range(0, n - 1)):\n",
    "        cumulative_reward[:, i] = reward[:, i] + gamma*cumulative_reward[:, i + 1]\n",
    "    return cumulative_reward"
   ]
  },
  {
   "cell_type": "code",
   "execution_count": 8,
   "metadata": {},
   "outputs": [],
   "source": [
    "def loss(log_probs, outputs, values, reward, baseline, entropy_coef=1e-1, gamma=0.5):\n",
    "    distr = torch.distributions.OneHotCategorical(logits=log_probs)\n",
    "    logp = distr.log_prob(outputs)\n",
    "    \n",
    "    cumul_rew = reward_cumulative(reward, gamma=gamma)\n",
    "    cumul_baseline = reward_cumulative(baseline, gamma=gamma)\n",
    "#     advantage = cumul_rew - values.detach()\n",
    "    advantage = cumul_rew - values.detach() - baseline\n",
    "    \n",
    "#     J = (logp * advantage).mean(-1)\n",
    "    J = (logp * cumul_rew).mean(-1)\n",
    "    entropy = distr.entropy().mean(-1)\n",
    "    policy_loss = (-J - entropy_coef*entropy)\n",
    "    \n",
    "    critic_loss = (cumul_rew - values - baseline)**2\n",
    "    return policy_loss.mean(), critic_loss.mean()"
   ]
  },
  {
   "cell_type": "code",
   "execution_count": 9,
   "metadata": {},
   "outputs": [],
   "source": [
    "# import matplotlib.pyplot as plt\n",
    "# wut = np.cumsum(np.random.geometric(0.9, size=(BATCH_SIZE, MAX_LEN)) - 1/(0.9), 1)\n",
    "# plt.figure(figsize=(12, 10))\n",
    "# for i in range(N_FEATURES):\n",
    "#     plt.plot(wut[0, :, i])\n",
    "# plt.show()"
   ]
  },
  {
   "cell_type": "code",
   "execution_count": 10,
   "metadata": {},
   "outputs": [],
   "source": [
    "def generate_info(batch_size=BATCH_SIZE, max_len=MAX_LEN):\n",
    "    features = np.stack(\n",
    "                [\n",
    "                    np.cumsum(np.random.normal(size=(BATCH_SIZE, MAX_LEN)), -1),\n",
    "                    np.cumsum(np.random.geometric(0.9, size=(BATCH_SIZE, MAX_LEN)) - 1/(0.9), -1),\n",
    "                    5*np.cumsum(np.random.normal(size=(BATCH_SIZE, MAX_LEN)), -1) + 1.,\n",
    "                    np.cumsum(np.random.geometric(0.5, size=(BATCH_SIZE, MAX_LEN)) - 1/(0.5), -1),\n",
    "                    np.random.normal(size=(BATCH_SIZE, MAX_LEN)),\n",
    "                    np.square(np.cumsum(np.random.normal(size=(BATCH_SIZE, MAX_LEN)), -1)),\n",
    "                ], -1)\n",
    "    external_obs = -features[:, :, 0]/(np.abs(features[:, :, 2]) + 1) + (0.1*features[:, :, 1] + features[:, :, 2] +\\\n",
    "                   features[:, :, 3]*np.abs(features[:, :, 1])) * features[:, :, 5]\n",
    "#     external_obs = features[:, :, 0] + np.abs(features[:, :, 2]) + 0.1*features[:, :, 3] + features[:, :, 4] +\\\n",
    "#                    features[:, :, 5]\n",
    "#     external_obs = external_obs - external_obs.sum(0)[None, :]\n",
    "#     external_obs[:, 3:] = external_obs[:, :-3]\n",
    "#     external_obs[:, :3] = 0\n",
    "\n",
    "    external_obs += np.random.normal(size=external_obs.shape)/3\n",
    "\n",
    "#     external_obs = features[:, :, 0] + 0.1*features[:, :, 1] + features[:, :, 2] +\\\n",
    "#                    features[:, :, 3] + features[:, :, 5]\n",
    "    return features, external_obs"
   ]
  },
  {
   "cell_type": "code",
   "execution_count": 11,
   "metadata": {},
   "outputs": [],
   "source": [
    "def gamma_ou(theta=1., mu=0., sigma=3., X_0=1., delta=0.1):\n",
    "    norms = np.random.normal(size=(BATCH_SIZE, MAX_LEN - 1))\n",
    "    ret = [np.ones(BATCH_SIZE)*X_0]\n",
    "    for i in range(MAX_LEN - 1):\n",
    "        ret.append(ret[-1] + theta*(mu - ret[-1])*delta + sigma*norms[:, i])\n",
    "    return np.stack(ret, 1)"
   ]
  },
  {
   "cell_type": "code",
   "execution_count": 12,
   "metadata": {},
   "outputs": [],
   "source": [
    "# def generate_info(batch_size=BATCH_SIZE, max_len=MAX_LEN):\n",
    "#     external_obs = gamma_ou()\n",
    "#     features = np.zeros_like(external_obs)\n",
    "#     features[:, 0] = external_obs[:, 0]\n",
    "#     for i in range(1, MAX_LEN):\n",
    "# #         print(max(i - 4, 0), i + 1)\n",
    "#         features[:, i] = (external_obs[:, i] - external_obs[:, max(i - 4, 0):i + 1].mean())/\\\n",
    "#                     external_obs[:, max(i - 4, 0):i + 1].std()\n",
    "#     return features[:, :, None], external_obs"
   ]
  },
  {
   "cell_type": "code",
   "execution_count": 13,
   "metadata": {},
   "outputs": [],
   "source": [
    "from tqdm import trange\n",
    "from IPython.display import clear_output\n",
    "import matplotlib.pyplot as plt"
   ]
  },
  {
   "cell_type": "code",
   "execution_count": 14,
   "metadata": {},
   "outputs": [
    {
     "data": {
      "image/png": "[encoded data removed]",
      "text/plain": [
       "<Figure size 432x288 with 1 Axes>"
      ]
     },
     "metadata": {
      "needs_background": "light"
     },
     "output_type": "display_data"
    }
   ],
   "source": [
    "wut = generate_info()\n",
    "plt.plot(wut[0][0], label='features')\n",
    "plt.plot(wut[1][0], label='ext_obs')\n",
    "plt.legend()\n",
    "plt.show()"
   ]
  },
  {
   "cell_type": "code",
   "execution_count": 15,
   "metadata": {},
   "outputs": [],
   "source": [
    "policy = Policy().to(DEVICE)\n",
    "critic = Critic().to(DEVICE)\n",
    "policy_opt = torch.optim.Adam(policy.parameters(), lr=1e-3)\n",
    "critic_opt = torch.optim.Adam(critic.parameters(), lr=1e-3)"
   ]
  },
  {
   "cell_type": "code",
   "execution_count": null,
   "metadata": {
    "scrolled": false
   },
   "outputs": [
    {
     "name": "stdout",
     "output_type": "stream",
     "text": [
      "tensor([[0, 0, 0,  ..., 0, 0, 0],\n",
      "        [0, 0, 0,  ..., 0, 0, 0],\n",
      "        [0, 3, 3,  ..., 3, 3, 3],\n",
      "        ...,\n",
      "        [0, 0, 0,  ..., 3, 0, 0],\n",
      "        [0, 0, 0,  ..., 0, 0, 0],\n",
      "        [0, 0, 0,  ..., 0, 0, 0]], device='cuda:0')\n",
      "tensor(0.6691, device='cuda:0')\n"
     ]
    }
   ],
   "source": [
    "#0.5 + baseline\n",
    "histroy = dict()\n",
    "histroy['policy_loss'] = []\n",
    "histroy['critic_loss'] = []\n",
    "histroy['mean_rewards'] = []\n",
    "histroy['mean_true_rewards'] = []\n",
    "histroy['true_target_reward'] = []\n",
    "histroy['baseline'] = []\n",
    "histroy['entropy'] = []\n",
    "histroy['outputs < -1'] = []\n",
    "histroy['outputs > 1'] = []\n",
    "histroy['grad_norm'] = []\n",
    "cur_rew = 1.\n",
    "\n",
    "\n",
    "for step in trange(20000):\n",
    "    batch_input, batch_external_obs = generate_info()\n",
    "    batch_input, batch_external_obs = torch.tensor(batch_input, device=DEVICE, dtype=torch.float32),\\\n",
    "                                        torch.tensor(batch_external_obs, device=DEVICE, dtype=torch.float32)\n",
    "    log_probs, outputs, values, reward, true_reward, baseline, true_target_reward =\\\n",
    "            generate_trajectory(batch_input, batch_external_obs, policy, critic, greedy=False)\n",
    "#     _, _, _, baseline, _ =\\\n",
    "#             generate_trajectory(batch_input, batch_external_obs, policy, critic, greedy=True)\n",
    "    \n",
    "    cur_rew = 0.99*cur_rew + 0.01*np.abs(reward.detach().cpu().numpy()).mean()\n",
    "    \n",
    "    policy_loss, critic_loss = loss(log_probs, outputs, values, reward/cur_rew, baseline/cur_rew, gamma=0.5)\n",
    "    policy_loss.backward()\n",
    "    grad_norm = nn.utils.clip_grad_norm_(policy.parameters(), 0.5)\n",
    "    policy_opt.step()\n",
    "    policy_opt.zero_grad()\n",
    "    \n",
    "    critic_loss.backward()\n",
    "    grad_norm += nn.utils.clip_grad_norm_(critic.parameters(), 0.5)\n",
    "    critic_opt.step()\n",
    "    critic_opt.zero_grad()\n",
    "    \n",
    "    histroy['policy_loss'].append(float(policy_loss.detach().cpu().numpy()))\n",
    "    histroy['critic_loss'].append(float(critic_loss.detach().cpu().numpy()))\n",
    "    histroy['mean_rewards'].append(float(reward.sum(1).mean().detach().cpu().numpy()))\n",
    "    histroy['mean_true_rewards'].append(float(true_reward.mean().detach().cpu().numpy()))\n",
    "    histroy['true_target_reward'].append(float(true_target_reward.mean().detach().cpu().numpy()))\n",
    "    histroy['baseline'].append(float(baseline.sum(1).mean().detach().cpu().numpy()))\n",
    "    histroy['entropy'].append(float((-(log_probs*torch.exp(log_probs)).sum(-1)).mean().detach().cpu().numpy()))\n",
    "    histroy['outputs < -1'].append(float((outputs.argmax(-1) - 1.5 < -1).detach().sum().cpu().numpy()))\n",
    "    histroy['outputs > 1'].append(float((outputs.argmax(-1) - 1.5 > 1).detach().sum().cpu().numpy()))\n",
    "    histroy['grad_norm'].append(grad_norm)\n",
    "    if step % 50 == 0:\n",
    "        clear_output()\n",
    "        print(log_probs.argmax(-1))\n",
    "        print((log_probs.argmax(-1) == outputs.argmax(-1)).float().mean())\n",
    "        plt.figure(figsize=(16, 36))\n",
    "        \n",
    "        for j, key in enumerate(histroy):\n",
    "            plt.subplot(7, 3, j + 1)\n",
    "            plt.title(key)\n",
    "            if key == 'entropy':\n",
    "                plt.ylim(-100, 5)\n",
    "            plt.plot(histroy[key])\n",
    "            \n",
    "        for j, key in enumerate(histroy):\n",
    "            plt.subplot(7, 3, j + 1 + len(histroy))\n",
    "            if key == 'entropy':\n",
    "                plt.ylim(-100, 5)\n",
    "            plt.title('last 100 ' + key)\n",
    "            plt.plot(histroy[key][-100:])\n",
    "        plt.show()"
   ]
  },
  {
   "cell_type": "code",
   "execution_count": null,
   "metadata": {},
   "outputs": [],
   "source": []
  },
  {
   "cell_type": "code",
   "execution_count": null,
   "metadata": {},
   "outputs": [],
   "source": []
  },
  {
   "cell_type": "code",
   "execution_count": null,
   "metadata": {},
   "outputs": [],
   "source": []
  },
  {
   "cell_type": "code",
   "execution_count": null,
   "metadata": {},
   "outputs": [],
   "source": []
  },
  {
   "cell_type": "code",
   "execution_count": null,
   "metadata": {},
   "outputs": [],
   "source": []
  },
  {
   "cell_type": "code",
   "execution_count": null,
   "metadata": {},
   "outputs": [],
   "source": []
  },
  {
   "cell_type": "code",
   "execution_count": null,
   "metadata": {},
   "outputs": [],
   "source": []
  },
  {
   "cell_type": "code",
   "execution_count": null,
   "metadata": {},
   "outputs": [],
   "source": []
  }
 ],
 "metadata": {
  "kernelspec": {
   "display_name": "Python 3",
   "language": "python",
   "name": "python3"
  },
  "language_info": {
   "codemirror_mode": {
    "name": "ipython",
    "version": 3
   },
   "file_extension": ".py",
   "mimetype": "text/x-python",
   "name": "python",
   "nbconvert_exporter": "python",
   "pygments_lexer": "ipython3",
   "version": "3.8.5"
  }
 },
 "nbformat": 4,
 "nbformat_minor": 2
}
